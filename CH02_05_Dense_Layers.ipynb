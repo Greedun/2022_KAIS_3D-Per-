{
  "nbformat": 4,
  "nbformat_minor": 0,
  "metadata": {
    "colab": {
      "name": "CH02_05_Dense_Layers.ipynb",
      "provenance": [],
      "authorship_tag": "ABX9TyP9CuyJW4YbtJxPFbk1K+6t",
      "include_colab_link": true
    },
    "kernelspec": {
      "name": "python3",
      "display_name": "Python 3"
    },
    "language_info": {
      "name": "python"
    }
  },
  "cells": [
    {
      "cell_type": "markdown",
      "metadata": {
        "id": "view-in-github",
        "colab_type": "text"
      },
      "source": [
        "<a href=\"https://colab.research.google.com/github/Greedun/2022_KAIS_3D-Per-/blob/main/CH02_05_Dense_Layers.ipynb\" target=\"_parent\"><img src=\"https://colab.research.google.com/assets/colab-badge.svg\" alt=\"Open In Colab\"/></a>"
      ]
    },
    {
      "cell_type": "code",
      "execution_count": null,
      "metadata": {
        "id": "UVz7XqE5bP7F"
      },
      "outputs": [],
      "source": [
        ""
      ]
    }
  ]
}